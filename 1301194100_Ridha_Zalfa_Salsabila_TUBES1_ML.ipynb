{
  "nbformat": 4,
  "nbformat_minor": 0,
  "metadata": {
    "colab": {
      "name": "1301194100_Ridha Zalfa Salsabila_TUBES1_ML.ipynb",
      "provenance": [],
      "collapsed_sections": []
    },
    "kernelspec": {
      "name": "python3",
      "display_name": "Python 3"
    },
    "language_info": {
      "name": "python"
    }
  },
  "cells": [
    {
      "cell_type": "markdown",
      "metadata": {
        "id": "aTdBE4L3GuNZ"
      },
      "source": [
        "# **DOWNLOAD FILE**"
      ]
    },
    {
      "cell_type": "code",
      "metadata": {
        "colab": {
          "base_uri": "https://localhost:8080/"
        },
        "id": "Tf-nk_GVLP3o",
        "outputId": "172b94c2-753f-43ed-d2e0-7bf7a64483a5"
      },
      "source": [
        "!gdown --id 1WEiWPmtvwXDYDofKzJzg75SH22UCqqOb             #lakukan download file yang akan diuji"
      ],
      "execution_count": null,
      "outputs": [
        {
          "output_type": "stream",
          "name": "stdout",
          "text": [
            "Downloading...\n",
            "From: https://drive.google.com/uc?id=1WEiWPmtvwXDYDofKzJzg75SH22UCqqOb\n",
            "To: /content/kendaraan_train.csv\n",
            "100% 15.2M/15.2M [00:00<00:00, 48.2MB/s]\n"
          ]
        }
      ]
    },
    {
      "cell_type": "markdown",
      "metadata": {
        "id": "Z632R6fJGzsx"
      },
      "source": [
        "# **IMPORT LIBRARY**"
      ]
    },
    {
      "cell_type": "code",
      "metadata": {
        "id": "GRMn49wuXNzF"
      },
      "source": [
        "import pandas as pd\n",
        "import numpy as np\n",
        "import matplotlib.pyplot as plt\n",
        "import seaborn as sns\n",
        "from sklearn.preprocessing import MinMaxScaler\n",
        "import random\n",
        "import copy\n",
        "import math"
      ],
      "execution_count": null,
      "outputs": []
    },
    {
      "cell_type": "markdown",
      "metadata": {
        "id": "PVhUVykvG4Wo"
      },
      "source": [
        "# **EXPLORASI DATA DAN PRE-PROCESSING**"
      ]
    },
    {
      "cell_type": "code",
      "metadata": {
        "colab": {
          "base_uri": "https://localhost:8080/",
          "height": 357
        },
        "id": "gYIKqz3YDuDM",
        "outputId": "a7c3291f-10cb-4875-a28d-35dffbc048d0"
      },
      "source": [
        "#read data\n",
        "df = pd.read_csv('kendaraan_train.csv')\n",
        "df.head(10)"
      ],
      "execution_count": null,
      "outputs": [
        {
          "output_type": "execute_result",
          "data": {
            "text/html": [
              "<div>\n",
              "<style scoped>\n",
              "    .dataframe tbody tr th:only-of-type {\n",
              "        vertical-align: middle;\n",
              "    }\n",
              "\n",
              "    .dataframe tbody tr th {\n",
              "        vertical-align: top;\n",
              "    }\n",
              "\n",
              "    .dataframe thead th {\n",
              "        text-align: right;\n",
              "    }\n",
              "</style>\n",
              "<table border=\"1\" class=\"dataframe\">\n",
              "  <thead>\n",
              "    <tr style=\"text-align: right;\">\n",
              "      <th></th>\n",
              "      <th>id</th>\n",
              "      <th>Jenis_Kelamin</th>\n",
              "      <th>Umur</th>\n",
              "      <th>SIM</th>\n",
              "      <th>Kode_Daerah</th>\n",
              "      <th>Sudah_Asuransi</th>\n",
              "      <th>Umur_Kendaraan</th>\n",
              "      <th>Kendaraan_Rusak</th>\n",
              "      <th>Premi</th>\n",
              "      <th>Kanal_Penjualan</th>\n",
              "      <th>Lama_Berlangganan</th>\n",
              "      <th>Tertarik</th>\n",
              "    </tr>\n",
              "  </thead>\n",
              "  <tbody>\n",
              "    <tr>\n",
              "      <th>0</th>\n",
              "      <td>1</td>\n",
              "      <td>Wanita</td>\n",
              "      <td>30.0</td>\n",
              "      <td>1.0</td>\n",
              "      <td>33.0</td>\n",
              "      <td>1.0</td>\n",
              "      <td>&lt; 1 Tahun</td>\n",
              "      <td>Tidak</td>\n",
              "      <td>28029.0</td>\n",
              "      <td>152.0</td>\n",
              "      <td>97.0</td>\n",
              "      <td>0</td>\n",
              "    </tr>\n",
              "    <tr>\n",
              "      <th>1</th>\n",
              "      <td>2</td>\n",
              "      <td>Pria</td>\n",
              "      <td>48.0</td>\n",
              "      <td>1.0</td>\n",
              "      <td>39.0</td>\n",
              "      <td>0.0</td>\n",
              "      <td>&gt; 2 Tahun</td>\n",
              "      <td>Pernah</td>\n",
              "      <td>25800.0</td>\n",
              "      <td>29.0</td>\n",
              "      <td>158.0</td>\n",
              "      <td>0</td>\n",
              "    </tr>\n",
              "    <tr>\n",
              "      <th>2</th>\n",
              "      <td>3</td>\n",
              "      <td>NaN</td>\n",
              "      <td>21.0</td>\n",
              "      <td>1.0</td>\n",
              "      <td>46.0</td>\n",
              "      <td>1.0</td>\n",
              "      <td>&lt; 1 Tahun</td>\n",
              "      <td>Tidak</td>\n",
              "      <td>32733.0</td>\n",
              "      <td>160.0</td>\n",
              "      <td>119.0</td>\n",
              "      <td>0</td>\n",
              "    </tr>\n",
              "    <tr>\n",
              "      <th>3</th>\n",
              "      <td>4</td>\n",
              "      <td>Wanita</td>\n",
              "      <td>58.0</td>\n",
              "      <td>1.0</td>\n",
              "      <td>48.0</td>\n",
              "      <td>0.0</td>\n",
              "      <td>1-2 Tahun</td>\n",
              "      <td>Tidak</td>\n",
              "      <td>2630.0</td>\n",
              "      <td>124.0</td>\n",
              "      <td>63.0</td>\n",
              "      <td>0</td>\n",
              "    </tr>\n",
              "    <tr>\n",
              "      <th>4</th>\n",
              "      <td>5</td>\n",
              "      <td>Pria</td>\n",
              "      <td>50.0</td>\n",
              "      <td>1.0</td>\n",
              "      <td>35.0</td>\n",
              "      <td>0.0</td>\n",
              "      <td>&gt; 2 Tahun</td>\n",
              "      <td>NaN</td>\n",
              "      <td>34857.0</td>\n",
              "      <td>88.0</td>\n",
              "      <td>194.0</td>\n",
              "      <td>0</td>\n",
              "    </tr>\n",
              "    <tr>\n",
              "      <th>5</th>\n",
              "      <td>6</td>\n",
              "      <td>Pria</td>\n",
              "      <td>21.0</td>\n",
              "      <td>1.0</td>\n",
              "      <td>35.0</td>\n",
              "      <td>1.0</td>\n",
              "      <td>&lt; 1 Tahun</td>\n",
              "      <td>Tidak</td>\n",
              "      <td>22735.0</td>\n",
              "      <td>152.0</td>\n",
              "      <td>171.0</td>\n",
              "      <td>0</td>\n",
              "    </tr>\n",
              "    <tr>\n",
              "      <th>6</th>\n",
              "      <td>7</td>\n",
              "      <td>Wanita</td>\n",
              "      <td>33.0</td>\n",
              "      <td>1.0</td>\n",
              "      <td>8.0</td>\n",
              "      <td>0.0</td>\n",
              "      <td>NaN</td>\n",
              "      <td>Pernah</td>\n",
              "      <td>32435.0</td>\n",
              "      <td>124.0</td>\n",
              "      <td>215.0</td>\n",
              "      <td>1</td>\n",
              "    </tr>\n",
              "    <tr>\n",
              "      <th>7</th>\n",
              "      <td>8</td>\n",
              "      <td>Pria</td>\n",
              "      <td>23.0</td>\n",
              "      <td>NaN</td>\n",
              "      <td>28.0</td>\n",
              "      <td>1.0</td>\n",
              "      <td>&lt; 1 Tahun</td>\n",
              "      <td>Tidak</td>\n",
              "      <td>26869.0</td>\n",
              "      <td>152.0</td>\n",
              "      <td>222.0</td>\n",
              "      <td>0</td>\n",
              "    </tr>\n",
              "    <tr>\n",
              "      <th>8</th>\n",
              "      <td>9</td>\n",
              "      <td>Wanita</td>\n",
              "      <td>20.0</td>\n",
              "      <td>1.0</td>\n",
              "      <td>8.0</td>\n",
              "      <td>1.0</td>\n",
              "      <td>&lt; 1 Tahun</td>\n",
              "      <td>Tidak</td>\n",
              "      <td>30786.0</td>\n",
              "      <td>160.0</td>\n",
              "      <td>31.0</td>\n",
              "      <td>0</td>\n",
              "    </tr>\n",
              "    <tr>\n",
              "      <th>9</th>\n",
              "      <td>10</td>\n",
              "      <td>NaN</td>\n",
              "      <td>54.0</td>\n",
              "      <td>1.0</td>\n",
              "      <td>29.0</td>\n",
              "      <td>0.0</td>\n",
              "      <td>&gt; 2 Tahun</td>\n",
              "      <td>Pernah</td>\n",
              "      <td>88883.0</td>\n",
              "      <td>124.0</td>\n",
              "      <td>28.0</td>\n",
              "      <td>1</td>\n",
              "    </tr>\n",
              "  </tbody>\n",
              "</table>\n",
              "</div>"
            ],
            "text/plain": [
              "   id Jenis_Kelamin  Umur  ...  Kanal_Penjualan  Lama_Berlangganan  Tertarik\n",
              "0   1        Wanita  30.0  ...            152.0               97.0         0\n",
              "1   2          Pria  48.0  ...             29.0              158.0         0\n",
              "2   3           NaN  21.0  ...            160.0              119.0         0\n",
              "3   4        Wanita  58.0  ...            124.0               63.0         0\n",
              "4   5          Pria  50.0  ...             88.0              194.0         0\n",
              "5   6          Pria  21.0  ...            152.0              171.0         0\n",
              "6   7        Wanita  33.0  ...            124.0              215.0         1\n",
              "7   8          Pria  23.0  ...            152.0              222.0         0\n",
              "8   9        Wanita  20.0  ...            160.0               31.0         0\n",
              "9  10           NaN  54.0  ...            124.0               28.0         1\n",
              "\n",
              "[10 rows x 12 columns]"
            ]
          },
          "metadata": {},
          "execution_count": 6
        }
      ]
    },
    {
      "cell_type": "code",
      "metadata": {
        "colab": {
          "base_uri": "https://localhost:8080/",
          "height": 357
        },
        "id": "R6NL-5fBJ5B1",
        "outputId": "87de930e-27fa-4fa2-c543-ec04c4f4e1a7"
      },
      "source": [
        "#drop feature NaN\n",
        "df.replace([np.nan])\n",
        "df.dropna(inplace=True)\n",
        "df.head(10)"
      ],
      "execution_count": null,
      "outputs": [
        {
          "output_type": "execute_result",
          "data": {
            "text/html": [
              "<div>\n",
              "<style scoped>\n",
              "    .dataframe tbody tr th:only-of-type {\n",
              "        vertical-align: middle;\n",
              "    }\n",
              "\n",
              "    .dataframe tbody tr th {\n",
              "        vertical-align: top;\n",
              "    }\n",
              "\n",
              "    .dataframe thead th {\n",
              "        text-align: right;\n",
              "    }\n",
              "</style>\n",
              "<table border=\"1\" class=\"dataframe\">\n",
              "  <thead>\n",
              "    <tr style=\"text-align: right;\">\n",
              "      <th></th>\n",
              "      <th>id</th>\n",
              "      <th>Jenis_Kelamin</th>\n",
              "      <th>Umur</th>\n",
              "      <th>SIM</th>\n",
              "      <th>Kode_Daerah</th>\n",
              "      <th>Sudah_Asuransi</th>\n",
              "      <th>Umur_Kendaraan</th>\n",
              "      <th>Kendaraan_Rusak</th>\n",
              "      <th>Premi</th>\n",
              "      <th>Kanal_Penjualan</th>\n",
              "      <th>Lama_Berlangganan</th>\n",
              "      <th>Tertarik</th>\n",
              "    </tr>\n",
              "  </thead>\n",
              "  <tbody>\n",
              "    <tr>\n",
              "      <th>0</th>\n",
              "      <td>1</td>\n",
              "      <td>Wanita</td>\n",
              "      <td>30.0</td>\n",
              "      <td>1.0</td>\n",
              "      <td>33.0</td>\n",
              "      <td>1.0</td>\n",
              "      <td>&lt; 1 Tahun</td>\n",
              "      <td>Tidak</td>\n",
              "      <td>28029.0</td>\n",
              "      <td>152.0</td>\n",
              "      <td>97.0</td>\n",
              "      <td>0</td>\n",
              "    </tr>\n",
              "    <tr>\n",
              "      <th>1</th>\n",
              "      <td>2</td>\n",
              "      <td>Pria</td>\n",
              "      <td>48.0</td>\n",
              "      <td>1.0</td>\n",
              "      <td>39.0</td>\n",
              "      <td>0.0</td>\n",
              "      <td>&gt; 2 Tahun</td>\n",
              "      <td>Pernah</td>\n",
              "      <td>25800.0</td>\n",
              "      <td>29.0</td>\n",
              "      <td>158.0</td>\n",
              "      <td>0</td>\n",
              "    </tr>\n",
              "    <tr>\n",
              "      <th>3</th>\n",
              "      <td>4</td>\n",
              "      <td>Wanita</td>\n",
              "      <td>58.0</td>\n",
              "      <td>1.0</td>\n",
              "      <td>48.0</td>\n",
              "      <td>0.0</td>\n",
              "      <td>1-2 Tahun</td>\n",
              "      <td>Tidak</td>\n",
              "      <td>2630.0</td>\n",
              "      <td>124.0</td>\n",
              "      <td>63.0</td>\n",
              "      <td>0</td>\n",
              "    </tr>\n",
              "    <tr>\n",
              "      <th>5</th>\n",
              "      <td>6</td>\n",
              "      <td>Pria</td>\n",
              "      <td>21.0</td>\n",
              "      <td>1.0</td>\n",
              "      <td>35.0</td>\n",
              "      <td>1.0</td>\n",
              "      <td>&lt; 1 Tahun</td>\n",
              "      <td>Tidak</td>\n",
              "      <td>22735.0</td>\n",
              "      <td>152.0</td>\n",
              "      <td>171.0</td>\n",
              "      <td>0</td>\n",
              "    </tr>\n",
              "    <tr>\n",
              "      <th>8</th>\n",
              "      <td>9</td>\n",
              "      <td>Wanita</td>\n",
              "      <td>20.0</td>\n",
              "      <td>1.0</td>\n",
              "      <td>8.0</td>\n",
              "      <td>1.0</td>\n",
              "      <td>&lt; 1 Tahun</td>\n",
              "      <td>Tidak</td>\n",
              "      <td>30786.0</td>\n",
              "      <td>160.0</td>\n",
              "      <td>31.0</td>\n",
              "      <td>0</td>\n",
              "    </tr>\n",
              "    <tr>\n",
              "      <th>10</th>\n",
              "      <td>11</td>\n",
              "      <td>Pria</td>\n",
              "      <td>25.0</td>\n",
              "      <td>1.0</td>\n",
              "      <td>14.0</td>\n",
              "      <td>1.0</td>\n",
              "      <td>&lt; 1 Tahun</td>\n",
              "      <td>Tidak</td>\n",
              "      <td>34212.0</td>\n",
              "      <td>152.0</td>\n",
              "      <td>282.0</td>\n",
              "      <td>0</td>\n",
              "    </tr>\n",
              "    <tr>\n",
              "      <th>14</th>\n",
              "      <td>15</td>\n",
              "      <td>Pria</td>\n",
              "      <td>66.0</td>\n",
              "      <td>1.0</td>\n",
              "      <td>24.0</td>\n",
              "      <td>1.0</td>\n",
              "      <td>1-2 Tahun</td>\n",
              "      <td>Tidak</td>\n",
              "      <td>38616.0</td>\n",
              "      <td>145.0</td>\n",
              "      <td>281.0</td>\n",
              "      <td>0</td>\n",
              "    </tr>\n",
              "    <tr>\n",
              "      <th>15</th>\n",
              "      <td>16</td>\n",
              "      <td>Pria</td>\n",
              "      <td>31.0</td>\n",
              "      <td>1.0</td>\n",
              "      <td>8.0</td>\n",
              "      <td>0.0</td>\n",
              "      <td>&lt; 1 Tahun</td>\n",
              "      <td>Pernah</td>\n",
              "      <td>2630.0</td>\n",
              "      <td>152.0</td>\n",
              "      <td>132.0</td>\n",
              "      <td>0</td>\n",
              "    </tr>\n",
              "    <tr>\n",
              "      <th>16</th>\n",
              "      <td>17</td>\n",
              "      <td>Wanita</td>\n",
              "      <td>24.0</td>\n",
              "      <td>1.0</td>\n",
              "      <td>30.0</td>\n",
              "      <td>1.0</td>\n",
              "      <td>&lt; 1 Tahun</td>\n",
              "      <td>Tidak</td>\n",
              "      <td>27285.0</td>\n",
              "      <td>152.0</td>\n",
              "      <td>215.0</td>\n",
              "      <td>0</td>\n",
              "    </tr>\n",
              "    <tr>\n",
              "      <th>17</th>\n",
              "      <td>18</td>\n",
              "      <td>Wanita</td>\n",
              "      <td>22.0</td>\n",
              "      <td>1.0</td>\n",
              "      <td>15.0</td>\n",
              "      <td>0.0</td>\n",
              "      <td>&lt; 1 Tahun</td>\n",
              "      <td>Pernah</td>\n",
              "      <td>38289.0</td>\n",
              "      <td>152.0</td>\n",
              "      <td>225.0</td>\n",
              "      <td>0</td>\n",
              "    </tr>\n",
              "  </tbody>\n",
              "</table>\n",
              "</div>"
            ],
            "text/plain": [
              "    id Jenis_Kelamin  Umur  ...  Kanal_Penjualan  Lama_Berlangganan  Tertarik\n",
              "0    1        Wanita  30.0  ...            152.0               97.0         0\n",
              "1    2          Pria  48.0  ...             29.0              158.0         0\n",
              "3    4        Wanita  58.0  ...            124.0               63.0         0\n",
              "5    6          Pria  21.0  ...            152.0              171.0         0\n",
              "8    9        Wanita  20.0  ...            160.0               31.0         0\n",
              "10  11          Pria  25.0  ...            152.0              282.0         0\n",
              "14  15          Pria  66.0  ...            145.0              281.0         0\n",
              "15  16          Pria  31.0  ...            152.0              132.0         0\n",
              "16  17        Wanita  24.0  ...            152.0              215.0         0\n",
              "17  18        Wanita  22.0  ...            152.0              225.0         0\n",
              "\n",
              "[10 rows x 12 columns]"
            ]
          },
          "metadata": {},
          "execution_count": 7
        }
      ]
    },
    {
      "cell_type": "code",
      "metadata": {
        "id": "VocNgebH2Ayn"
      },
      "source": [
        "#drop data kategorikal\n",
        "x = df.drop(['id', 'SIM', 'Sudah_Asuransi', 'Jenis_Kelamin', 'Umur_Kendaraan', 'Kendaraan_Rusak', 'Tertarik'], axis=1)"
      ],
      "execution_count": null,
      "outputs": []
    },
    {
      "cell_type": "code",
      "metadata": {
        "colab": {
          "base_uri": "https://localhost:8080/",
          "height": 592
        },
        "id": "a4yxxbSPcdlO",
        "outputId": "87b07471-b472-47ec-b0cd-feec207706bb"
      },
      "source": [
        "#hitung korelasi\n",
        "corr_x = x.corr()\n",
        "plt.figure(figsize=(10, 8))\n",
        "mask = np.triu(np.ones_like(corr_x, dtype=bool))\n",
        "sns.heatmap(corr_x, annot=True, mask=mask)"
      ],
      "execution_count": null,
      "outputs": [
        {
          "output_type": "execute_result",
          "data": {
            "text/plain": [
              "<matplotlib.axes._subplots.AxesSubplot at 0x7f24eee6b990>"
            ]
          },
          "metadata": {},
          "execution_count": 9
        },
        {
          "output_type": "display_data",
          "data": {
            "image/png": "[encoded data removed]",
            "text/plain": [
              "<Figure size 720x576 with 2 Axes>"
            ]
          },
          "metadata": {
            "needs_background": "light"
          }
        }
      ]
    },
    {
      "cell_type": "code",
      "metadata": {
        "colab": {
          "base_uri": "https://localhost:8080/"
        },
        "id": "Fx173xuWX2-V",
        "outputId": "96d13d8a-6c68-4284-b501-39a79e1c66f8"
      },
      "source": [
        "#melakukan feature selection\n",
        "columns = np.full((corr_x.shape[0],), True, dtype=bool)\n",
        "for i in range(corr_x.shape[0]):\n",
        "     for j in range(i+1, corr_x.shape[0]):\n",
        "         if corr_x.iloc[i,j] >= 0.3:\n",
        "             if columns[j]:\n",
        "                 columns[j] = False\n",
        "selected_columns = x.columns[columns]\n",
        "x_t1 = x[selected_columns]\n",
        "x_t1.info()"
      ],
      "execution_count": null,
      "outputs": [
        {
          "output_type": "stream",
          "name": "stdout",
          "text": [
            "<class 'pandas.core.frame.DataFrame'>\n",
            "Int64Index: 171068 entries, 0 to 285830\n",
            "Data columns (total 5 columns):\n",
            " #   Column             Non-Null Count   Dtype  \n",
            "---  ------             --------------   -----  \n",
            " 0   Umur               171068 non-null  float64\n",
            " 1   Kode_Daerah        171068 non-null  float64\n",
            " 2   Premi              171068 non-null  float64\n",
            " 3   Kanal_Penjualan    171068 non-null  float64\n",
            " 4   Lama_Berlangganan  171068 non-null  float64\n",
            "dtypes: float64(5)\n",
            "memory usage: 7.8 MB\n"
          ]
        }
      ]
    },
    {
      "cell_type": "code",
      "metadata": {
        "id": "3NPKW0KEdbxZ"
      },
      "source": [
        "x_coba = x[['Umur', 'Lama_Berlangganan']]"
      ],
      "execution_count": null,
      "outputs": []
    },
    {
      "cell_type": "code",
      "metadata": {
        "colab": {
          "base_uri": "https://localhost:8080/"
        },
        "id": "ccac5iXnew7-",
        "outputId": "652514ee-1d72-418b-e639-7125b46954db"
      },
      "source": [
        "x_coba.isna().sum()                           #cek apakah masih ada data kosong/NaN"
      ],
      "execution_count": null,
      "outputs": [
        {
          "output_type": "execute_result",
          "data": {
            "text/plain": [
              "Umur                 0\n",
              "Lama_Berlangganan    0\n",
              "dtype: int64"
            ]
          },
          "metadata": {},
          "execution_count": 12
        }
      ]
    },
    {
      "cell_type": "code",
      "metadata": {
        "colab": {
          "base_uri": "https://localhost:8080/"
        },
        "id": "L6WH0-4Ie6bj",
        "outputId": "57844d1e-8297-4e8e-d496-e50d0465cacd"
      },
      "source": [
        "x_train = x_coba.dropna()                     #cek apakah masih ada data kosong/NaN\n",
        "x_train.isna().sum()"
      ],
      "execution_count": null,
      "outputs": [
        {
          "output_type": "execute_result",
          "data": {
            "text/plain": [
              "Umur                 0\n",
              "Lama_Berlangganan    0\n",
              "dtype: int64"
            ]
          },
          "metadata": {},
          "execution_count": 13
        }
      ]
    },
    {
      "cell_type": "code",
      "metadata": {
        "colab": {
          "base_uri": "https://localhost:8080/"
        },
        "id": "FXJ5cMm8fDIa",
        "outputId": "4776a022-3583-424e-ecac-fab33a2a3a8c"
      },
      "source": [
        "x_train.info()"
      ],
      "execution_count": null,
      "outputs": [
        {
          "output_type": "stream",
          "name": "stdout",
          "text": [
            "<class 'pandas.core.frame.DataFrame'>\n",
            "Int64Index: 171068 entries, 0 to 285830\n",
            "Data columns (total 2 columns):\n",
            " #   Column             Non-Null Count   Dtype  \n",
            "---  ------             --------------   -----  \n",
            " 0   Umur               171068 non-null  float64\n",
            " 1   Lama_Berlangganan  171068 non-null  float64\n",
            "dtypes: float64(2)\n",
            "memory usage: 3.9 MB\n"
          ]
        }
      ]
    },
    {
      "cell_type": "markdown",
      "metadata": {
        "id": "48sWL9eKfHMU"
      },
      "source": [
        "# **OUTLIERS**"
      ]
    },
    {
      "cell_type": "code",
      "metadata": {
        "colab": {
          "base_uri": "https://localhost:8080/",
          "height": 596
        },
        "id": "cW62nVe1fId_",
        "outputId": "909aecb9-5a99-41b2-a2c9-e0bc6ec5143c"
      },
      "source": [
        "plt.figure(figsize=(6, 6))\n",
        "for i in x_train.columns:\n",
        "  sns.boxplot(data = x_train, y = i)\n",
        "  plt.show()"
      ],
      "execution_count": null,
      "outputs": [
        {
          "output_type": "display_data",
          "data": {
            "image/png": "[encoded data removed]",
            "text/plain": [
              "<Figure size 432x432 with 1 Axes>"
            ]
          },
          "metadata": {
            "needs_background": "light"
          }
        },
        {
          "output_type": "display_data",
          "data": {
            "image/png": "[encoded data removed]",
            "text/plain": [
              "<Figure size 432x288 with 1 Axes>"
            ]
          },
          "metadata": {
            "needs_background": "light"
          }
        }
      ]
    },
    {
      "cell_type": "markdown",
      "metadata": {
        "id": "2jy6v0sqfsyD"
      },
      "source": [
        "# **SCALING**"
      ]
    },
    {
      "cell_type": "code",
      "metadata": {
        "colab": {
          "base_uri": "https://localhost:8080/",
          "height": 417
        },
        "id": "ahZgFJ9eft3Y",
        "outputId": "ed480ba7-d666-4e19-9140-7ac9e83b6743"
      },
      "source": [
        "#normalisasi korelasi dengan min-max scaling\n",
        "scaler = MinMaxScaler()\n",
        "x_train = pd.DataFrame(scaler.fit_transform(x_train))\n",
        "x_train.columns = ['Umur', 'Lama_Berlangganan']\n",
        "x_train"
      ],
      "execution_count": null,
      "outputs": [
        {
          "output_type": "execute_result",
          "data": {
            "text/html": [
              "<div>\n",
              "<style scoped>\n",
              "    .dataframe tbody tr th:only-of-type {\n",
              "        vertical-align: middle;\n",
              "    }\n",
              "\n",
              "    .dataframe tbody tr th {\n",
              "        vertical-align: top;\n",
              "    }\n",
              "\n",
              "    .dataframe thead th {\n",
              "        text-align: right;\n",
              "    }\n",
              "</style>\n",
              "<table border=\"1\" class=\"dataframe\">\n",
              "  <thead>\n",
              "    <tr style=\"text-align: right;\">\n",
              "      <th></th>\n",
              "      <th>Umur</th>\n",
              "      <th>Lama_Berlangganan</th>\n",
              "    </tr>\n",
              "  </thead>\n",
              "  <tbody>\n",
              "    <tr>\n",
              "      <th>0</th>\n",
              "      <td>0.153846</td>\n",
              "      <td>0.301038</td>\n",
              "    </tr>\n",
              "    <tr>\n",
              "      <th>1</th>\n",
              "      <td>0.430769</td>\n",
              "      <td>0.512111</td>\n",
              "    </tr>\n",
              "    <tr>\n",
              "      <th>2</th>\n",
              "      <td>0.584615</td>\n",
              "      <td>0.183391</td>\n",
              "    </tr>\n",
              "    <tr>\n",
              "      <th>3</th>\n",
              "      <td>0.015385</td>\n",
              "      <td>0.557093</td>\n",
              "    </tr>\n",
              "    <tr>\n",
              "      <th>4</th>\n",
              "      <td>0.000000</td>\n",
              "      <td>0.072664</td>\n",
              "    </tr>\n",
              "    <tr>\n",
              "      <th>...</th>\n",
              "      <td>...</td>\n",
              "      <td>...</td>\n",
              "    </tr>\n",
              "    <tr>\n",
              "      <th>171063</th>\n",
              "      <td>0.046154</td>\n",
              "      <td>0.716263</td>\n",
              "    </tr>\n",
              "    <tr>\n",
              "      <th>171064</th>\n",
              "      <td>0.015385</td>\n",
              "      <td>0.138408</td>\n",
              "    </tr>\n",
              "    <tr>\n",
              "      <th>171065</th>\n",
              "      <td>0.046154</td>\n",
              "      <td>0.747405</td>\n",
              "    </tr>\n",
              "    <tr>\n",
              "      <th>171066</th>\n",
              "      <td>0.738462</td>\n",
              "      <td>0.899654</td>\n",
              "    </tr>\n",
              "    <tr>\n",
              "      <th>171067</th>\n",
              "      <td>0.384615</td>\n",
              "      <td>0.117647</td>\n",
              "    </tr>\n",
              "  </tbody>\n",
              "</table>\n",
              "<p>171068 rows × 2 columns</p>\n",
              "</div>"
            ],
            "text/plain": [
              "            Umur  Lama_Berlangganan\n",
              "0       0.153846           0.301038\n",
              "1       0.430769           0.512111\n",
              "2       0.584615           0.183391\n",
              "3       0.015385           0.557093\n",
              "4       0.000000           0.072664\n",
              "...          ...                ...\n",
              "171063  0.046154           0.716263\n",
              "171064  0.015385           0.138408\n",
              "171065  0.046154           0.747405\n",
              "171066  0.738462           0.899654\n",
              "171067  0.384615           0.117647\n",
              "\n",
              "[171068 rows x 2 columns]"
            ]
          },
          "metadata": {},
          "execution_count": 16
        }
      ]
    },
    {
      "cell_type": "markdown",
      "metadata": {
        "id": "sZD2v51CgcQi"
      },
      "source": [
        "# **MODELLING K-MEANS**"
      ]
    },
    {
      "cell_type": "code",
      "metadata": {
        "id": "9SlZ58Ie8rIV"
      },
      "source": [
        "#menghitung jarak dari centroid dengan euclidean\n",
        "def euclidean_dist(x, y):\n",
        "    return math.sqrt(sum((x - y)**2))"
      ],
      "execution_count": null,
      "outputs": []
    },
    {
      "cell_type": "code",
      "metadata": {
        "id": "PfVRzlFr88_3"
      },
      "source": [
        "#untuk pemberhentian iterasi jika posisi centroid sudah stabil/tidak berubah\n",
        "def is_convergent(temp_centroid, centroid, k):\n",
        "    for i in range(k):\n",
        "        if (temp_centroid.get(i) != centroid.get(i))[0]:\n",
        "            return False\n",
        "\n",
        "    return True"
      ],
      "execution_count": null,
      "outputs": []
    },
    {
      "cell_type": "code",
      "metadata": {
        "id": "KJwZHZSX9FBL"
      },
      "source": [
        "#membuat fungsi untuk centroid dan cluster dengan k-means\n",
        "def kmeans(k, max_iter, df):\n",
        "  total = 0\n",
        "  centroid = {i: df[random.randint(0, len(df))] for i in range(k)}                #inisiasi dictionary centroid untuk memilih centroid secara random\n",
        "    \n",
        "  temp_centroid = centroid.copy()                                                 #sebagai patokan iterasi \n",
        "    \n",
        "  for _ in range(max_iter):\n",
        "        cluster = {i: [] for i in range(k)}                                       #mendefinisikan dictionary cluster\n",
        "        sse = []\n",
        "        for x in df:                                                              #mencari nilai data terdekat dari centro\n",
        "            jarak = [euclidean_dist(x, centroid[c]) for c in centroid]\n",
        "            sse.append(np.min(jarak))\n",
        "            cluster[jarak.index(min(jarak))].append(x)\n",
        "        for cl in cluster:\n",
        "            centroid[cl] = np.mean(cluster[cl], axis=0)\n",
        "        if is_convergent(temp_centroid, centroid, k): \n",
        "          break\n",
        "\n",
        "        temp_centroid = centroid.copy()\n",
        "\n",
        "    # Mengembalikan Nilai Dari Variabel Centroid Dan Cluster\n",
        "  return centroid, cluster, sum(sse)"
      ],
      "execution_count": null,
      "outputs": []
    },
    {
      "cell_type": "markdown",
      "metadata": {
        "id": "ZKnxx1oQUF-Q"
      },
      "source": [
        "  pada fungsi k-means ini, dilakukan inisiasi centroid untuk memilih centroid secara random. lalu dilakukan copy centroid ke temp_centroid sebagai patokan iterasi. lalu didefinisikan dictionary cluster berbentuk array yang nantinya akan diisi dengan key. \n",
        "  \n",
        "  setelah itu dicari nilai data yang terdekat dengan centroid. lalu dicari nilai minimum tiap jarak menggunakan euclidean. setelah itu nilai minimum disimpan pada dictionary cluster.\n",
        "\n",
        "  fungsi akan melakukan looping sebanyak iterasi. cek iterasi dengan is_convergent\n",
        "fungsi akan mengembalikan nilai centroid dan cluster\n",
        "\n",
        "\n"
      ]
    },
    {
      "cell_type": "code",
      "metadata": {
        "id": "bHHWF3Oa-Xlq"
      },
      "source": [
        "#membuat array cluster yang akan diinputkan ke k-means\n",
        "def buat_cluster(cluster):\n",
        "  df = []\n",
        "  for key in cluster[1].keys():\n",
        "        for c in cluster[1].get(key):\n",
        "            df.append((c[0], c[1], key))\n",
        "\n",
        "    # Set Array df menjadi dataframe, Menamakan nama kolom dan menampilkannya\n",
        "  df = pd.DataFrame(df)\n",
        "  df.columns = ['Umur', 'Lama_Berlangganan', 'Cluster']\n",
        "    \n",
        "  return df"
      ],
      "execution_count": null,
      "outputs": []
    },
    {
      "cell_type": "code",
      "metadata": {
        "colab": {
          "base_uri": "https://localhost:8080/"
        },
        "id": "BEt5N780_LMi",
        "outputId": "2656cc4a-ff14-47f0-b683-35540144086d"
      },
      "source": [
        "#Inisialisasi array Untuk SSE dan semua hasil cluster\n",
        "sse_all = []\n",
        "cluster_all = [] \n",
        "\n",
        "data = x_train.to_numpy()                           #merubah dataframe menjadi np array\n",
        "max_iter = 100                                      #inisiasi nilai maks_iter dan K\n",
        "K = range(2, 6)\n",
        "\n",
        "for i in K: \n",
        "    centroid, cluster, sse = kmeans(i, max_iter, data)\n",
        "    print(f'Centroid Cluster-{i}: \\n{centroid}\\n')\n",
        "    sse_all.append(sse)                             #input setiap nilai yang di return ke array\n",
        "    cluster_all.append([i, cluster, centroid])"
      ],
      "execution_count": null,
      "outputs": [
        {
          "output_type": "stream",
          "name": "stdout",
          "text": [
            "Centroid Cluster-2: \n",
            "{0: array([0.28958303, 0.2486237 ]), 1: array([0.28943607, 0.75134836])}\n",
            "\n",
            "Centroid Cluster-3: \n",
            "{0: array([0.61556783, 0.50919796]), 1: array([0.17966041, 0.76801678]), 2: array([0.18827646, 0.22969215])}\n",
            "\n",
            "Centroid Cluster-4: \n",
            "{0: array([0.62338192, 0.54712225]), 1: array([0.11512312, 0.47239853]), 2: array([0.204568, 0.838926]), 3: array([0.26045754, 0.148912  ])}\n",
            "\n",
            "Centroid Cluster-5: \n",
            "{0: array([0.56184539, 0.18908627]), 1: array([0.10326491, 0.23467388]), 2: array([0.38625767, 0.49674592]), 3: array([0.10349495, 0.76507945]), 4: array([0.56405988, 0.80616587])}\n",
            "\n"
          ]
        }
      ]
    },
    {
      "cell_type": "markdown",
      "metadata": {
        "id": "QWdp5NJMX_uw"
      },
      "source": [
        "  pada bagian ini digunanakan model k-means yang telah dibuat untuk mendapatkan nilai banyak centroid, cluster, dan nilai SSE."
      ]
    },
    {
      "cell_type": "code",
      "metadata": {
        "id": "m-GubQPSRHCp"
      },
      "source": [
        "def visualize_cluster(cluster_all):\n",
        "    clusterize = []                                                               #buat array untuk menyimpan hasil klusterisasi \n",
        "    fig, axs = plt.subplots(2, 2, figsize=(15, 15))                               #membuat subplot untuk scatterplot chart dan inisiasi awal baris dan kolom\n",
        "    row = 0\n",
        "    col = 0\n",
        "   \n",
        "    for cluster in cluster_all: \n",
        "        df = buat_cluster(cluster)                                                #buat dataframe tiap cluster dan masukkan jenis cluster untuk hitung score\n",
        "        clusterize.append(df)\n",
        "        colors = ['r', 'g', 'b', 'y', 'orange']\n",
        "        #title plot\n",
        "        axs[col, row].set_title(f'Model Dengan {cluster[0]} Cluster', fontsize=14)\n",
        "        #loop tiap titik data dan centroid\n",
        "        for i in range(cluster[0]):\n",
        "            axs[col][row].scatter(\n",
        "                df['Umur'][df['Cluster'] == i],\n",
        "                df['Lama_Berlangganan'][df['Cluster'] == i],\n",
        "                color=colors[i],\n",
        "                label=f'Cluster {i}'\n",
        "            )\n",
        "            axs[col][row].scatter(cluster[2][i][0], cluster[2][i][1], color='k', marker='P')\n",
        "\n",
        "        #untuk acuan tampilan legend centroid\n",
        "        axs[col][row].scatter(cluster[2][0][0], cluster[2][0][1], color='k', label=\"Centroids\", marker='P')                  \n",
        "        #set label x, y dan tempat legend ditampilkan\n",
        "        axs[col][row].legend(loc='best', bbox_to_anchor=(1, 0.5))\n",
        "        #atur row dan kolom plot yang akan ditampilkan \n",
        "        row += 1\n",
        "        if row == 2: row = 0\n",
        "        if row == 0 and col == 0: \n",
        "            row = 0\n",
        "            col = 1 \n",
        "    #set label x dan y \n",
        "    for ax in axs.flat:\n",
        "        ax.set(xlabel='Umur', ylabel='Lama_Berlangganan')\n",
        "        ax.label_outer()\n",
        "    #tampilkan plot\n",
        "    plt.subplots_adjust(wspace=0.3, hspace=0.1)\n",
        "    plt.show()\n",
        "\n",
        "    return clusterize"
      ],
      "execution_count": null,
      "outputs": []
    },
    {
      "cell_type": "code",
      "metadata": {
        "colab": {
          "base_uri": "https://localhost:8080/",
          "height": 894
        },
        "id": "xoYX5277R8pL",
        "outputId": "1d50f08a-7ba0-4843-bdcf-4ca2d205a147"
      },
      "source": [
        "clusterize = visualize_cluster(cluster_all)"
      ],
      "execution_count": null,
      "outputs": [
        {
          "output_type": "display_data",
          "data": {
            "image/png": "[encoded data removed]",
            "text/plain": [
              "<Figure size 1080x1080 with 4 Axes>"
            ]
          },
          "metadata": {
            "needs_background": "light"
          }
        }
      ]
    },
    {
      "cell_type": "markdown",
      "metadata": {
        "id": "WvuvFosFXtuT"
      },
      "source": [
        "# **EVALUASI DENGAN ELBOW METHOD**"
      ]
    },
    {
      "cell_type": "code",
      "metadata": {
        "colab": {
          "base_uri": "https://localhost:8080/",
          "height": 306
        },
        "id": "iTjZXAtZbfWQ",
        "outputId": "a852cda8-7a51-4737-9ecc-188183a8fa54"
      },
      "source": [
        "# Plot data\n",
        "plt.plot(K, sse_all, marker='o')\n",
        "plt.xlabel('Nilai K')\n",
        "plt.ylabel('SSE')\n",
        "plt.title('Elbow Method', fontsize=14, pad=16)\n",
        "plt.show()"
      ],
      "execution_count": null,
      "outputs": [
        {
          "output_type": "display_data",
          "data": {
            "image/png": "[encoded data removed]",
            "text/plain": [
              "<Figure size 432x288 with 1 Axes>"
            ]
          },
          "metadata": {
            "needs_background": "light"
          }
        }
      ]
    },
    {
      "cell_type": "markdown",
      "metadata": {
        "id": "mwqNmAAUoLeR"
      },
      "source": [
        "# **SILHOUETTE SCORE**"
      ]
    },
    {
      "cell_type": "code",
      "metadata": {
        "colab": {
          "base_uri": "https://localhost:8080/"
        },
        "id": "NIopk4-3blNQ",
        "outputId": "45be24df-4f22-403b-ef85-f0df2810af90"
      },
      "source": [
        "from sklearn.metrics import silhouette_score\n",
        "\n",
        "for i, cluster in enumerate(clusterize):\n",
        "    score = silhouette_score(cluster[['Umur', 'Lama_Berlangganan']], cluster['Cluster'])\n",
        "    print(f'Cluster-{i+2}, Silhouette Score = {score}')"
      ],
      "execution_count": null,
      "outputs": [
        {
          "output_type": "stream",
          "name": "stdout",
          "text": [
            "Cluster-2, Silhouette Score = 0.4040456690361213\n",
            "Cluster-3, Silhouette Score = 0.409088273274686\n",
            "Cluster-4, Silhouette Score = 0.3481708297641313\n",
            "Cluster-5, Silhouette Score = 0.40486370195605154\n"
          ]
        }
      ]
    }
  ]
}