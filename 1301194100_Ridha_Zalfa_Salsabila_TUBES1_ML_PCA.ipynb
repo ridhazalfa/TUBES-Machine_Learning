{
  "nbformat": 4,
  "nbformat_minor": 0,
  "metadata": {
    "colab": {
      "name": "1301194100_Ridha Zalfa Salsabila_TUBES1_ML_PCA.ipynb",
      "provenance": [],
      "collapsed_sections": []
    },
    "kernelspec": {
      "name": "python3",
      "display_name": "Python 3"
    },
    "language_info": {
      "name": "python"
    }
  },
  "cells": [
    {
      "cell_type": "markdown",
      "metadata": {
        "id": "8eRgSVIUhK31"
      },
      "source": [
        "# **DOWNLOAD FILE**"
      ]
    },
    {
      "cell_type": "code",
      "metadata": {
        "colab": {
          "base_uri": "https://localhost:8080/"
        },
        "id": "gNaUGG92g2Pd",
        "outputId": "f0b48a55-c266-498d-db8a-e869f39b21bc"
      },
      "source": [
        "!gdown --id 1WEiWPmtvwXDYDofKzJzg75SH22UCqqOb             #lakukan download file yang akan diuji"
      ],
      "execution_count": 1,
      "outputs": [
        {
          "output_type": "stream",
          "name": "stdout",
          "text": [
            "Downloading...\n",
            "From: https://drive.google.com/uc?id=1WEiWPmtvwXDYDofKzJzg75SH22UCqqOb\n",
            "To: /content/kendaraan_train.csv\n",
            "100% 15.2M/15.2M [00:00<00:00, 56.0MB/s]\n"
          ]
        }
      ]
    },
    {
      "cell_type": "markdown",
      "metadata": {
        "id": "DeJyiSt3hRAe"
      },
      "source": [
        "# **IMPORT LIBRARY**"
      ]
    },
    {
      "cell_type": "code",
      "metadata": {
        "id": "uxFuowRQhUAy"
      },
      "source": [
        "import pandas as pd\n",
        "import numpy as np\n",
        "import matplotlib.pyplot as plt\n",
        "import seaborn as sns\n",
        "from sklearn.preprocessing import StandardScaler\n",
        "from sklearn.decomposition import PCA\n",
        "import random\n",
        "import copy\n",
        "import math\n",
        "from sklearn.metrics import silhouette_score"
      ],
      "execution_count": 2,
      "outputs": []
    },
    {
      "cell_type": "markdown",
      "metadata": {
        "id": "yf91nz1OheMp"
      },
      "source": [
        "# **EXPLORASI DATA**"
      ]
    },
    {
      "cell_type": "code",
      "metadata": {
        "colab": {
          "base_uri": "https://localhost:8080/",
          "height": 357
        },
        "id": "9mkF5DwKhso1",
        "outputId": "ae454779-6910-48b0-b9ae-d9c46df0ecb0"
      },
      "source": [
        "#read data\n",
        "df = pd.read_csv('kendaraan_train.csv')\n",
        "df.head(10)"
      ],
      "execution_count": 3,
      "outputs": [
        {
          "output_type": "execute_result",
          "data": {
            "text/html": [
              "<div>\n",
              "<style scoped>\n",
              "    .dataframe tbody tr th:only-of-type {\n",
              "        vertical-align: middle;\n",
              "    }\n",
              "\n",
              "    .dataframe tbody tr th {\n",
              "        vertical-align: top;\n",
              "    }\n",
              "\n",
              "    .dataframe thead th {\n",
              "        text-align: right;\n",
              "    }\n",
              "</style>\n",
              "<table border=\"1\" class=\"dataframe\">\n",
              "  <thead>\n",
              "    <tr style=\"text-align: right;\">\n",
              "      <th></th>\n",
              "      <th>id</th>\n",
              "      <th>Jenis_Kelamin</th>\n",
              "      <th>Umur</th>\n",
              "      <th>SIM</th>\n",
              "      <th>Kode_Daerah</th>\n",
              "      <th>Sudah_Asuransi</th>\n",
              "      <th>Umur_Kendaraan</th>\n",
              "      <th>Kendaraan_Rusak</th>\n",
              "      <th>Premi</th>\n",
              "      <th>Kanal_Penjualan</th>\n",
              "      <th>Lama_Berlangganan</th>\n",
              "      <th>Tertarik</th>\n",
              "    </tr>\n",
              "  </thead>\n",
              "  <tbody>\n",
              "    <tr>\n",
              "      <th>0</th>\n",
              "      <td>1</td>\n",
              "      <td>Wanita</td>\n",
              "      <td>30.0</td>\n",
              "      <td>1.0</td>\n",
              "      <td>33.0</td>\n",
              "      <td>1.0</td>\n",
              "      <td>&lt; 1 Tahun</td>\n",
              "      <td>Tidak</td>\n",
              "      <td>28029.0</td>\n",
              "      <td>152.0</td>\n",
              "      <td>97.0</td>\n",
              "      <td>0</td>\n",
              "    </tr>\n",
              "    <tr>\n",
              "      <th>1</th>\n",
              "      <td>2</td>\n",
              "      <td>Pria</td>\n",
              "      <td>48.0</td>\n",
              "      <td>1.0</td>\n",
              "      <td>39.0</td>\n",
              "      <td>0.0</td>\n",
              "      <td>&gt; 2 Tahun</td>\n",
              "      <td>Pernah</td>\n",
              "      <td>25800.0</td>\n",
              "      <td>29.0</td>\n",
              "      <td>158.0</td>\n",
              "      <td>0</td>\n",
              "    </tr>\n",
              "    <tr>\n",
              "      <th>2</th>\n",
              "      <td>3</td>\n",
              "      <td>NaN</td>\n",
              "      <td>21.0</td>\n",
              "      <td>1.0</td>\n",
              "      <td>46.0</td>\n",
              "      <td>1.0</td>\n",
              "      <td>&lt; 1 Tahun</td>\n",
              "      <td>Tidak</td>\n",
              "      <td>32733.0</td>\n",
              "      <td>160.0</td>\n",
              "      <td>119.0</td>\n",
              "      <td>0</td>\n",
              "    </tr>\n",
              "    <tr>\n",
              "      <th>3</th>\n",
              "      <td>4</td>\n",
              "      <td>Wanita</td>\n",
              "      <td>58.0</td>\n",
              "      <td>1.0</td>\n",
              "      <td>48.0</td>\n",
              "      <td>0.0</td>\n",
              "      <td>1-2 Tahun</td>\n",
              "      <td>Tidak</td>\n",
              "      <td>2630.0</td>\n",
              "      <td>124.0</td>\n",
              "      <td>63.0</td>\n",
              "      <td>0</td>\n",
              "    </tr>\n",
              "    <tr>\n",
              "      <th>4</th>\n",
              "      <td>5</td>\n",
              "      <td>Pria</td>\n",
              "      <td>50.0</td>\n",
              "      <td>1.0</td>\n",
              "      <td>35.0</td>\n",
              "      <td>0.0</td>\n",
              "      <td>&gt; 2 Tahun</td>\n",
              "      <td>NaN</td>\n",
              "      <td>34857.0</td>\n",
              "      <td>88.0</td>\n",
              "      <td>194.0</td>\n",
              "      <td>0</td>\n",
              "    </tr>\n",
              "    <tr>\n",
              "      <th>5</th>\n",
              "      <td>6</td>\n",
              "      <td>Pria</td>\n",
              "      <td>21.0</td>\n",
              "      <td>1.0</td>\n",
              "      <td>35.0</td>\n",
              "      <td>1.0</td>\n",
              "      <td>&lt; 1 Tahun</td>\n",
              "      <td>Tidak</td>\n",
              "      <td>22735.0</td>\n",
              "      <td>152.0</td>\n",
              "      <td>171.0</td>\n",
              "      <td>0</td>\n",
              "    </tr>\n",
              "    <tr>\n",
              "      <th>6</th>\n",
              "      <td>7</td>\n",
              "      <td>Wanita</td>\n",
              "      <td>33.0</td>\n",
              "      <td>1.0</td>\n",
              "      <td>8.0</td>\n",
              "      <td>0.0</td>\n",
              "      <td>NaN</td>\n",
              "      <td>Pernah</td>\n",
              "      <td>32435.0</td>\n",
              "      <td>124.0</td>\n",
              "      <td>215.0</td>\n",
              "      <td>1</td>\n",
              "    </tr>\n",
              "    <tr>\n",
              "      <th>7</th>\n",
              "      <td>8</td>\n",
              "      <td>Pria</td>\n",
              "      <td>23.0</td>\n",
              "      <td>NaN</td>\n",
              "      <td>28.0</td>\n",
              "      <td>1.0</td>\n",
              "      <td>&lt; 1 Tahun</td>\n",
              "      <td>Tidak</td>\n",
              "      <td>26869.0</td>\n",
              "      <td>152.0</td>\n",
              "      <td>222.0</td>\n",
              "      <td>0</td>\n",
              "    </tr>\n",
              "    <tr>\n",
              "      <th>8</th>\n",
              "      <td>9</td>\n",
              "      <td>Wanita</td>\n",
              "      <td>20.0</td>\n",
              "      <td>1.0</td>\n",
              "      <td>8.0</td>\n",
              "      <td>1.0</td>\n",
              "      <td>&lt; 1 Tahun</td>\n",
              "      <td>Tidak</td>\n",
              "      <td>30786.0</td>\n",
              "      <td>160.0</td>\n",
              "      <td>31.0</td>\n",
              "      <td>0</td>\n",
              "    </tr>\n",
              "    <tr>\n",
              "      <th>9</th>\n",
              "      <td>10</td>\n",
              "      <td>NaN</td>\n",
              "      <td>54.0</td>\n",
              "      <td>1.0</td>\n",
              "      <td>29.0</td>\n",
              "      <td>0.0</td>\n",
              "      <td>&gt; 2 Tahun</td>\n",
              "      <td>Pernah</td>\n",
              "      <td>88883.0</td>\n",
              "      <td>124.0</td>\n",
              "      <td>28.0</td>\n",
              "      <td>1</td>\n",
              "    </tr>\n",
              "  </tbody>\n",
              "</table>\n",
              "</div>"
            ],
            "text/plain": [
              "   id Jenis_Kelamin  Umur  ...  Kanal_Penjualan  Lama_Berlangganan  Tertarik\n",
              "0   1        Wanita  30.0  ...            152.0               97.0         0\n",
              "1   2          Pria  48.0  ...             29.0              158.0         0\n",
              "2   3           NaN  21.0  ...            160.0              119.0         0\n",
              "3   4        Wanita  58.0  ...            124.0               63.0         0\n",
              "4   5          Pria  50.0  ...             88.0              194.0         0\n",
              "5   6          Pria  21.0  ...            152.0              171.0         0\n",
              "6   7        Wanita  33.0  ...            124.0              215.0         1\n",
              "7   8          Pria  23.0  ...            152.0              222.0         0\n",
              "8   9        Wanita  20.0  ...            160.0               31.0         0\n",
              "9  10           NaN  54.0  ...            124.0               28.0         1\n",
              "\n",
              "[10 rows x 12 columns]"
            ]
          },
          "metadata": {},
          "execution_count": 3
        }
      ]
    },
    {
      "cell_type": "code",
      "metadata": {
        "colab": {
          "base_uri": "https://localhost:8080/",
          "height": 357
        },
        "id": "vdxSjgAwIIg5",
        "outputId": "5b4978cf-7434-4062-d855-0fbdc1140b62"
      },
      "source": [
        "#drop feature NaN\n",
        "df.replace([np.nan])\n",
        "df.dropna(inplace=True)\n",
        "df.head(10)"
      ],
      "execution_count": 4,
      "outputs": [
        {
          "output_type": "execute_result",
          "data": {
            "text/html": [
              "<div>\n",
              "<style scoped>\n",
              "    .dataframe tbody tr th:only-of-type {\n",
              "        vertical-align: middle;\n",
              "    }\n",
              "\n",
              "    .dataframe tbody tr th {\n",
              "        vertical-align: top;\n",
              "    }\n",
              "\n",
              "    .dataframe thead th {\n",
              "        text-align: right;\n",
              "    }\n",
              "</style>\n",
              "<table border=\"1\" class=\"dataframe\">\n",
              "  <thead>\n",
              "    <tr style=\"text-align: right;\">\n",
              "      <th></th>\n",
              "      <th>id</th>\n",
              "      <th>Jenis_Kelamin</th>\n",
              "      <th>Umur</th>\n",
              "      <th>SIM</th>\n",
              "      <th>Kode_Daerah</th>\n",
              "      <th>Sudah_Asuransi</th>\n",
              "      <th>Umur_Kendaraan</th>\n",
              "      <th>Kendaraan_Rusak</th>\n",
              "      <th>Premi</th>\n",
              "      <th>Kanal_Penjualan</th>\n",
              "      <th>Lama_Berlangganan</th>\n",
              "      <th>Tertarik</th>\n",
              "    </tr>\n",
              "  </thead>\n",
              "  <tbody>\n",
              "    <tr>\n",
              "      <th>0</th>\n",
              "      <td>1</td>\n",
              "      <td>Wanita</td>\n",
              "      <td>30.0</td>\n",
              "      <td>1.0</td>\n",
              "      <td>33.0</td>\n",
              "      <td>1.0</td>\n",
              "      <td>&lt; 1 Tahun</td>\n",
              "      <td>Tidak</td>\n",
              "      <td>28029.0</td>\n",
              "      <td>152.0</td>\n",
              "      <td>97.0</td>\n",
              "      <td>0</td>\n",
              "    </tr>\n",
              "    <tr>\n",
              "      <th>1</th>\n",
              "      <td>2</td>\n",
              "      <td>Pria</td>\n",
              "      <td>48.0</td>\n",
              "      <td>1.0</td>\n",
              "      <td>39.0</td>\n",
              "      <td>0.0</td>\n",
              "      <td>&gt; 2 Tahun</td>\n",
              "      <td>Pernah</td>\n",
              "      <td>25800.0</td>\n",
              "      <td>29.0</td>\n",
              "      <td>158.0</td>\n",
              "      <td>0</td>\n",
              "    </tr>\n",
              "    <tr>\n",
              "      <th>3</th>\n",
              "      <td>4</td>\n",
              "      <td>Wanita</td>\n",
              "      <td>58.0</td>\n",
              "      <td>1.0</td>\n",
              "      <td>48.0</td>\n",
              "      <td>0.0</td>\n",
              "      <td>1-2 Tahun</td>\n",
              "      <td>Tidak</td>\n",
              "      <td>2630.0</td>\n",
              "      <td>124.0</td>\n",
              "      <td>63.0</td>\n",
              "      <td>0</td>\n",
              "    </tr>\n",
              "    <tr>\n",
              "      <th>5</th>\n",
              "      <td>6</td>\n",
              "      <td>Pria</td>\n",
              "      <td>21.0</td>\n",
              "      <td>1.0</td>\n",
              "      <td>35.0</td>\n",
              "      <td>1.0</td>\n",
              "      <td>&lt; 1 Tahun</td>\n",
              "      <td>Tidak</td>\n",
              "      <td>22735.0</td>\n",
              "      <td>152.0</td>\n",
              "      <td>171.0</td>\n",
              "      <td>0</td>\n",
              "    </tr>\n",
              "    <tr>\n",
              "      <th>8</th>\n",
              "      <td>9</td>\n",
              "      <td>Wanita</td>\n",
              "      <td>20.0</td>\n",
              "      <td>1.0</td>\n",
              "      <td>8.0</td>\n",
              "      <td>1.0</td>\n",
              "      <td>&lt; 1 Tahun</td>\n",
              "      <td>Tidak</td>\n",
              "      <td>30786.0</td>\n",
              "      <td>160.0</td>\n",
              "      <td>31.0</td>\n",
              "      <td>0</td>\n",
              "    </tr>\n",
              "    <tr>\n",
              "      <th>10</th>\n",
              "      <td>11</td>\n",
              "      <td>Pria</td>\n",
              "      <td>25.0</td>\n",
              "      <td>1.0</td>\n",
              "      <td>14.0</td>\n",
              "      <td>1.0</td>\n",
              "      <td>&lt; 1 Tahun</td>\n",
              "      <td>Tidak</td>\n",
              "      <td>34212.0</td>\n",
              "      <td>152.0</td>\n",
              "      <td>282.0</td>\n",
              "      <td>0</td>\n",
              "    </tr>\n",
              "    <tr>\n",
              "      <th>14</th>\n",
              "      <td>15</td>\n",
              "      <td>Pria</td>\n",
              "      <td>66.0</td>\n",
              "      <td>1.0</td>\n",
              "      <td>24.0</td>\n",
              "      <td>1.0</td>\n",
              "      <td>1-2 Tahun</td>\n",
              "      <td>Tidak</td>\n",
              "      <td>38616.0</td>\n",
              "      <td>145.0</td>\n",
              "      <td>281.0</td>\n",
              "      <td>0</td>\n",
              "    </tr>\n",
              "    <tr>\n",
              "      <th>15</th>\n",
              "      <td>16</td>\n",
              "      <td>Pria</td>\n",
              "      <td>31.0</td>\n",
              "      <td>1.0</td>\n",
              "      <td>8.0</td>\n",
              "      <td>0.0</td>\n",
              "      <td>&lt; 1 Tahun</td>\n",
              "      <td>Pernah</td>\n",
              "      <td>2630.0</td>\n",
              "      <td>152.0</td>\n",
              "      <td>132.0</td>\n",
              "      <td>0</td>\n",
              "    </tr>\n",
              "    <tr>\n",
              "      <th>16</th>\n",
              "      <td>17</td>\n",
              "      <td>Wanita</td>\n",
              "      <td>24.0</td>\n",
              "      <td>1.0</td>\n",
              "      <td>30.0</td>\n",
              "      <td>1.0</td>\n",
              "      <td>&lt; 1 Tahun</td>\n",
              "      <td>Tidak</td>\n",
              "      <td>27285.0</td>\n",
              "      <td>152.0</td>\n",
              "      <td>215.0</td>\n",
              "      <td>0</td>\n",
              "    </tr>\n",
              "    <tr>\n",
              "      <th>17</th>\n",
              "      <td>18</td>\n",
              "      <td>Wanita</td>\n",
              "      <td>22.0</td>\n",
              "      <td>1.0</td>\n",
              "      <td>15.0</td>\n",
              "      <td>0.0</td>\n",
              "      <td>&lt; 1 Tahun</td>\n",
              "      <td>Pernah</td>\n",
              "      <td>38289.0</td>\n",
              "      <td>152.0</td>\n",
              "      <td>225.0</td>\n",
              "      <td>0</td>\n",
              "    </tr>\n",
              "  </tbody>\n",
              "</table>\n",
              "</div>"
            ],
            "text/plain": [
              "    id Jenis_Kelamin  Umur  ...  Kanal_Penjualan  Lama_Berlangganan  Tertarik\n",
              "0    1        Wanita  30.0  ...            152.0               97.0         0\n",
              "1    2          Pria  48.0  ...             29.0              158.0         0\n",
              "3    4        Wanita  58.0  ...            124.0               63.0         0\n",
              "5    6          Pria  21.0  ...            152.0              171.0         0\n",
              "8    9        Wanita  20.0  ...            160.0               31.0         0\n",
              "10  11          Pria  25.0  ...            152.0              282.0         0\n",
              "14  15          Pria  66.0  ...            145.0              281.0         0\n",
              "15  16          Pria  31.0  ...            152.0              132.0         0\n",
              "16  17        Wanita  24.0  ...            152.0              215.0         0\n",
              "17  18        Wanita  22.0  ...            152.0              225.0         0\n",
              "\n",
              "[10 rows x 12 columns]"
            ]
          },
          "metadata": {},
          "execution_count": 4
        }
      ]
    },
    {
      "cell_type": "code",
      "metadata": {
        "colab": {
          "base_uri": "https://localhost:8080/",
          "height": 357
        },
        "id": "olmxmDCsIezi",
        "outputId": "ad71ceda-7907-4334-c295-eee7cb0ec7b3"
      },
      "source": [
        "#replace\n",
        "df.replace(['< 1 Tahun', '1-2 Tahun', '> 2 Tahun'], [0,1,2], inplace=True)\n",
        "\n",
        "df.replace(['Wanita', 'Pria'], [0,1], inplace= True)\n",
        "df.replace(['Tidak', 'Pernah'], [0,1], inplace=True)\n",
        "\n",
        "df.head(10)"
      ],
      "execution_count": 5,
      "outputs": [
        {
          "output_type": "execute_result",
          "data": {
            "text/html": [
              "<div>\n",
              "<style scoped>\n",
              "    .dataframe tbody tr th:only-of-type {\n",
              "        vertical-align: middle;\n",
              "    }\n",
              "\n",
              "    .dataframe tbody tr th {\n",
              "        vertical-align: top;\n",
              "    }\n",
              "\n",
              "    .dataframe thead th {\n",
              "        text-align: right;\n",
              "    }\n",
              "</style>\n",
              "<table border=\"1\" class=\"dataframe\">\n",
              "  <thead>\n",
              "    <tr style=\"text-align: right;\">\n",
              "      <th></th>\n",
              "      <th>id</th>\n",
              "      <th>Jenis_Kelamin</th>\n",
              "      <th>Umur</th>\n",
              "      <th>SIM</th>\n",
              "      <th>Kode_Daerah</th>\n",
              "      <th>Sudah_Asuransi</th>\n",
              "      <th>Umur_Kendaraan</th>\n",
              "      <th>Kendaraan_Rusak</th>\n",
              "      <th>Premi</th>\n",
              "      <th>Kanal_Penjualan</th>\n",
              "      <th>Lama_Berlangganan</th>\n",
              "      <th>Tertarik</th>\n",
              "    </tr>\n",
              "  </thead>\n",
              "  <tbody>\n",
              "    <tr>\n",
              "      <th>0</th>\n",
              "      <td>1</td>\n",
              "      <td>0</td>\n",
              "      <td>30.0</td>\n",
              "      <td>1.0</td>\n",
              "      <td>33.0</td>\n",
              "      <td>1.0</td>\n",
              "      <td>0</td>\n",
              "      <td>0</td>\n",
              "      <td>28029.0</td>\n",
              "      <td>152.0</td>\n",
              "      <td>97.0</td>\n",
              "      <td>0</td>\n",
              "    </tr>\n",
              "    <tr>\n",
              "      <th>1</th>\n",
              "      <td>2</td>\n",
              "      <td>1</td>\n",
              "      <td>48.0</td>\n",
              "      <td>1.0</td>\n",
              "      <td>39.0</td>\n",
              "      <td>0.0</td>\n",
              "      <td>2</td>\n",
              "      <td>1</td>\n",
              "      <td>25800.0</td>\n",
              "      <td>29.0</td>\n",
              "      <td>158.0</td>\n",
              "      <td>0</td>\n",
              "    </tr>\n",
              "    <tr>\n",
              "      <th>3</th>\n",
              "      <td>4</td>\n",
              "      <td>0</td>\n",
              "      <td>58.0</td>\n",
              "      <td>1.0</td>\n",
              "      <td>48.0</td>\n",
              "      <td>0.0</td>\n",
              "      <td>1</td>\n",
              "      <td>0</td>\n",
              "      <td>2630.0</td>\n",
              "      <td>124.0</td>\n",
              "      <td>63.0</td>\n",
              "      <td>0</td>\n",
              "    </tr>\n",
              "    <tr>\n",
              "      <th>5</th>\n",
              "      <td>6</td>\n",
              "      <td>1</td>\n",
              "      <td>21.0</td>\n",
              "      <td>1.0</td>\n",
              "      <td>35.0</td>\n",
              "      <td>1.0</td>\n",
              "      <td>0</td>\n",
              "      <td>0</td>\n",
              "      <td>22735.0</td>\n",
              "      <td>152.0</td>\n",
              "      <td>171.0</td>\n",
              "      <td>0</td>\n",
              "    </tr>\n",
              "    <tr>\n",
              "      <th>8</th>\n",
              "      <td>9</td>\n",
              "      <td>0</td>\n",
              "      <td>20.0</td>\n",
              "      <td>1.0</td>\n",
              "      <td>8.0</td>\n",
              "      <td>1.0</td>\n",
              "      <td>0</td>\n",
              "      <td>0</td>\n",
              "      <td>30786.0</td>\n",
              "      <td>160.0</td>\n",
              "      <td>31.0</td>\n",
              "      <td>0</td>\n",
              "    </tr>\n",
              "    <tr>\n",
              "      <th>10</th>\n",
              "      <td>11</td>\n",
              "      <td>1</td>\n",
              "      <td>25.0</td>\n",
              "      <td>1.0</td>\n",
              "      <td>14.0</td>\n",
              "      <td>1.0</td>\n",
              "      <td>0</td>\n",
              "      <td>0</td>\n",
              "      <td>34212.0</td>\n",
              "      <td>152.0</td>\n",
              "      <td>282.0</td>\n",
              "      <td>0</td>\n",
              "    </tr>\n",
              "    <tr>\n",
              "      <th>14</th>\n",
              "      <td>15</td>\n",
              "      <td>1</td>\n",
              "      <td>66.0</td>\n",
              "      <td>1.0</td>\n",
              "      <td>24.0</td>\n",
              "      <td>1.0</td>\n",
              "      <td>1</td>\n",
              "      <td>0</td>\n",
              "      <td>38616.0</td>\n",
              "      <td>145.0</td>\n",
              "      <td>281.0</td>\n",
              "      <td>0</td>\n",
              "    </tr>\n",
              "    <tr>\n",
              "      <th>15</th>\n",
              "      <td>16</td>\n",
              "      <td>1</td>\n",
              "      <td>31.0</td>\n",
              "      <td>1.0</td>\n",
              "      <td>8.0</td>\n",
              "      <td>0.0</td>\n",
              "      <td>0</td>\n",
              "      <td>1</td>\n",
              "      <td>2630.0</td>\n",
              "      <td>152.0</td>\n",
              "      <td>132.0</td>\n",
              "      <td>0</td>\n",
              "    </tr>\n",
              "    <tr>\n",
              "      <th>16</th>\n",
              "      <td>17</td>\n",
              "      <td>0</td>\n",
              "      <td>24.0</td>\n",
              "      <td>1.0</td>\n",
              "      <td>30.0</td>\n",
              "      <td>1.0</td>\n",
              "      <td>0</td>\n",
              "      <td>0</td>\n",
              "      <td>27285.0</td>\n",
              "      <td>152.0</td>\n",
              "      <td>215.0</td>\n",
              "      <td>0</td>\n",
              "    </tr>\n",
              "    <tr>\n",
              "      <th>17</th>\n",
              "      <td>18</td>\n",
              "      <td>0</td>\n",
              "      <td>22.0</td>\n",
              "      <td>1.0</td>\n",
              "      <td>15.0</td>\n",
              "      <td>0.0</td>\n",
              "      <td>0</td>\n",
              "      <td>1</td>\n",
              "      <td>38289.0</td>\n",
              "      <td>152.0</td>\n",
              "      <td>225.0</td>\n",
              "      <td>0</td>\n",
              "    </tr>\n",
              "  </tbody>\n",
              "</table>\n",
              "</div>"
            ],
            "text/plain": [
              "    id  Jenis_Kelamin  Umur  ...  Kanal_Penjualan  Lama_Berlangganan  Tertarik\n",
              "0    1              0  30.0  ...            152.0               97.0         0\n",
              "1    2              1  48.0  ...             29.0              158.0         0\n",
              "3    4              0  58.0  ...            124.0               63.0         0\n",
              "5    6              1  21.0  ...            152.0              171.0         0\n",
              "8    9              0  20.0  ...            160.0               31.0         0\n",
              "10  11              1  25.0  ...            152.0              282.0         0\n",
              "14  15              1  66.0  ...            145.0              281.0         0\n",
              "15  16              1  31.0  ...            152.0              132.0         0\n",
              "16  17              0  24.0  ...            152.0              215.0         0\n",
              "17  18              0  22.0  ...            152.0              225.0         0\n",
              "\n",
              "[10 rows x 12 columns]"
            ]
          },
          "metadata": {},
          "execution_count": 5
        }
      ]
    },
    {
      "cell_type": "code",
      "metadata": {
        "colab": {
          "base_uri": "https://localhost:8080/"
        },
        "id": "k5o4C-soNOFZ",
        "outputId": "954f4b09-8958-4111-9550-73441bb64569"
      },
      "source": [
        "df.isna().sum() "
      ],
      "execution_count": 7,
      "outputs": [
        {
          "output_type": "execute_result",
          "data": {
            "text/plain": [
              "id                   0\n",
              "Jenis_Kelamin        0\n",
              "Umur                 0\n",
              "SIM                  0\n",
              "Kode_Daerah          0\n",
              "Sudah_Asuransi       0\n",
              "Umur_Kendaraan       0\n",
              "Kendaraan_Rusak      0\n",
              "Premi                0\n",
              "Kanal_Penjualan      0\n",
              "Lama_Berlangganan    0\n",
              "Tertarik             0\n",
              "dtype: int64"
            ]
          },
          "metadata": {},
          "execution_count": 7
        }
      ]
    },
    {
      "cell_type": "code",
      "metadata": {
        "colab": {
          "base_uri": "https://localhost:8080/"
        },
        "id": "Q-OEVvFzNVFz",
        "outputId": "e676bf19-521a-41d1-858a-5f33b01fd82b"
      },
      "source": [
        "x_train = df.dropna()                     #cek apakah masih ada data kosong/NaN\n",
        "x_train.isna().sum()"
      ],
      "execution_count": 8,
      "outputs": [
        {
          "output_type": "execute_result",
          "data": {
            "text/plain": [
              "id                   0\n",
              "Jenis_Kelamin        0\n",
              "Umur                 0\n",
              "SIM                  0\n",
              "Kode_Daerah          0\n",
              "Sudah_Asuransi       0\n",
              "Umur_Kendaraan       0\n",
              "Kendaraan_Rusak      0\n",
              "Premi                0\n",
              "Kanal_Penjualan      0\n",
              "Lama_Berlangganan    0\n",
              "Tertarik             0\n",
              "dtype: int64"
            ]
          },
          "metadata": {},
          "execution_count": 8
        }
      ]
    },
    {
      "cell_type": "code",
      "metadata": {
        "id": "76f9g-FrIsce"
      },
      "source": [
        "#scalling dengan standard scaler\n",
        "testt = pd.DataFrame(StandardScaler().fit_transform(x_train))"
      ],
      "execution_count": 9,
      "outputs": []
    },
    {
      "cell_type": "code",
      "metadata": {
        "id": "H-VKSSBEI5ad"
      },
      "source": [
        "#feature selection dengan PCA\n",
        "pca_train = PCA(n_components=2)\n",
        "principalComponents_train = pca_train.fit_transform(testt)"
      ],
      "execution_count": 10,
      "outputs": []
    },
    {
      "cell_type": "code",
      "metadata": {
        "colab": {
          "base_uri": "https://localhost:8080/",
          "height": 203
        },
        "id": "oBg-lPncOT7q",
        "outputId": "fff1521b-b87f-41c7-cd05-922088804962"
      },
      "source": [
        "data1 = pd.DataFrame(data = principalComponents_train,\n",
        "                    columns = ['Principal Components 1', 'Principal Components 2'])\n",
        "data1.head()"
      ],
      "execution_count": 24,
      "outputs": [
        {
          "output_type": "execute_result",
          "data": {
            "text/html": [
              "<div>\n",
              "<style scoped>\n",
              "    .dataframe tbody tr th:only-of-type {\n",
              "        vertical-align: middle;\n",
              "    }\n",
              "\n",
              "    .dataframe tbody tr th {\n",
              "        vertical-align: top;\n",
              "    }\n",
              "\n",
              "    .dataframe thead th {\n",
              "        text-align: right;\n",
              "    }\n",
              "</style>\n",
              "<table border=\"1\" class=\"dataframe\">\n",
              "  <thead>\n",
              "    <tr style=\"text-align: right;\">\n",
              "      <th></th>\n",
              "      <th>Principal Components 1</th>\n",
              "      <th>Principal Components 2</th>\n",
              "    </tr>\n",
              "  </thead>\n",
              "  <tbody>\n",
              "    <tr>\n",
              "      <th>0</th>\n",
              "      <td>-2.148120</td>\n",
              "      <td>0.176507</td>\n",
              "    </tr>\n",
              "    <tr>\n",
              "      <th>1</th>\n",
              "      <td>2.863845</td>\n",
              "      <td>0.818241</td>\n",
              "    </tr>\n",
              "    <tr>\n",
              "      <th>2</th>\n",
              "      <td>0.477919</td>\n",
              "      <td>0.448773</td>\n",
              "    </tr>\n",
              "    <tr>\n",
              "      <th>3</th>\n",
              "      <td>-2.136602</td>\n",
              "      <td>0.117296</td>\n",
              "    </tr>\n",
              "    <tr>\n",
              "      <th>4</th>\n",
              "      <td>-2.550463</td>\n",
              "      <td>-0.195846</td>\n",
              "    </tr>\n",
              "  </tbody>\n",
              "</table>\n",
              "</div>"
            ],
            "text/plain": [
              "   Principal Components 1  Principal Components 2\n",
              "0               -2.148120                0.176507\n",
              "1                2.863845                0.818241\n",
              "2                0.477919                0.448773\n",
              "3               -2.136602                0.117296\n",
              "4               -2.550463               -0.195846"
            ]
          },
          "metadata": {},
          "execution_count": 24
        }
      ]
    },
    {
      "cell_type": "markdown",
      "metadata": {
        "id": "XhIUVKqqit9v"
      },
      "source": [
        "# **MODELING K-MEANS**"
      ]
    },
    {
      "cell_type": "code",
      "metadata": {
        "id": "EmnVBkjci0q9"
      },
      "source": [
        "#menghitung jarak dari centroid dengan euclidean\n",
        "def euclidean_dist(x, y):\n",
        "    return math.sqrt(sum((x - y)**2))"
      ],
      "execution_count": 25,
      "outputs": []
    },
    {
      "cell_type": "code",
      "metadata": {
        "id": "sjhsZPJSi6yj"
      },
      "source": [
        "#untuk pemberhentian iterasi jika posisi centroid sudah stabil/tidak berubah\n",
        "def is_convergent(temp_centroid, centroid, k):\n",
        "    for i in range(k):\n",
        "        if (temp_centroid.get(i) != centroid.get(i))[0]:\n",
        "            return False\n",
        "\n",
        "    return True"
      ],
      "execution_count": 26,
      "outputs": []
    },
    {
      "cell_type": "code",
      "metadata": {
        "id": "9M_KOuyaj7B9"
      },
      "source": [
        "#membuat fungsi untuk centroid dan cluster dengan k-means\n",
        "def kmeans(k, max_iter, df):\n",
        "  total = 0\n",
        "  centroid = {i: df[random.randint(0, len(df))] for i in range(k)}                #inisiasi dictionary centroid untuk memilih centroid secara random\n",
        "    \n",
        "  temp_centroid = centroid.copy()                                                 #sebagai patokan iterasi \n",
        "    \n",
        "  for _ in range(max_iter):\n",
        "        cluster = {i: [] for i in range(k)}                                       #mendefinisikan dictionary cluster\n",
        "        sse = []\n",
        "        for x in df:                                                              #mencari nilai data terdekat dari centro\n",
        "            jarak = [euclidean_dist(x, centroid[c]) for c in centroid]\n",
        "            sse.append(np.min(jarak))\n",
        "            cluster[jarak.index(min(jarak))].append(x)\n",
        "        for cl in cluster:\n",
        "            centroid[cl] = np.mean(cluster[cl], axis=0)\n",
        "        if is_convergent(temp_centroid, centroid, k): \n",
        "          break\n",
        "\n",
        "        temp_centroid = centroid.copy()\n",
        "\n",
        "    # Mengembalikan Nilai Dari Variabel Centroid Dan Cluster\n",
        "  return centroid, cluster, sum(sse)"
      ],
      "execution_count": 27,
      "outputs": []
    },
    {
      "cell_type": "code",
      "metadata": {
        "id": "Fc6TOvpUlz-4"
      },
      "source": [
        "#membuat array cluster yang akan diinputkan ke k-means\n",
        "def buat_cluster(cluster):\n",
        "  df = []\n",
        "  for key in cluster[1].keys():\n",
        "        for c in cluster[1].get(key):\n",
        "            df.append((c[0], c[1], key))\n",
        "\n",
        "    # Set Array df menjadi dataframe, Menamakan nama kolom dan menampilkannya\n",
        "  df = pd.DataFrame(df)\n",
        "  df.columns = ['Principal Components 1', 'Principal Components 2', 'Cluster']\n",
        "    \n",
        "  return df"
      ],
      "execution_count": 28,
      "outputs": []
    },
    {
      "cell_type": "code",
      "metadata": {
        "colab": {
          "base_uri": "https://localhost:8080/"
        },
        "id": "1dufFc8nl2Sc",
        "outputId": "c878bb79-6c37-42af-b5b6-994f35f6e1b9"
      },
      "source": [
        "#Inisialisasi array Untuk SSE dan semua hasil cluster\n",
        "sse_all = []\n",
        "cluster_all = [] \n",
        "\n",
        "data = data1.to_numpy()                           #merubah dataframe menjadi np array\n",
        "max_iter = 100                                      #inisiasi nilai maks_iter dan K\n",
        "K = range(2, 6)\n",
        "\n",
        "for i in K: \n",
        "    centroid, cluster, sse = kmeans(i, max_iter, data)\n",
        "    print(f'Centroid Cluster-{i}: \\n{centroid}\\n')\n",
        "    sse_all.append(sse)                             #input setiap nilai yang di return ke array\n",
        "    cluster_all.append([i, cluster, centroid])"
      ],
      "execution_count": 29,
      "outputs": [
        {
          "output_type": "stream",
          "name": "stdout",
          "text": [
            "Centroid Cluster-2: \n",
            "{0: array([1.46541861, 0.17880596]), 1: array([-1.53372276, -0.18714023])}\n",
            "\n",
            "Centroid Cluster-3: \n",
            "{0: array([ 1.75630194, -0.45925878]), 1: array([0.19125579, 1.70323109]), 2: array([-1.69100973, -0.34653531])}\n",
            "\n",
            "Centroid Cluster-4: \n",
            "{0: array([0.20219448, 1.70983911]), 1: array([ 0.12584178, -1.61429506]), 2: array([-2.04535869,  0.06230948]), 3: array([ 2.0442062 , -0.11575427])}\n",
            "\n",
            "Centroid Cluster-5: \n",
            "{0: array([0.16014628, 1.69074807]), 1: array([-0.33345255, -1.80472244]), 2: array([2.37304671, 0.33302188]), 3: array([ 1.36747368, -0.90567598]), 4: array([-2.04828185,  0.05963271])}\n",
            "\n"
          ]
        }
      ]
    },
    {
      "cell_type": "code",
      "metadata": {
        "id": "PaAIefGLtauw"
      },
      "source": [
        "def visualize_cluster(cluster_all):\n",
        "    clusterize = []                                                               #buat array untuk menyimpan hasil klusterisasi \n",
        "    fig, axs = plt.subplots(2, 2, figsize=(15, 15))                               #membuat subplot untuk scatterplot chart dan inisiasi awal baris dan kolom\n",
        "    row = 0\n",
        "    col = 0\n",
        "   \n",
        "    for cluster in cluster_all: \n",
        "        df = buat_cluster(cluster)                                                #buat dataframe tiap cluster dan masukkan jenis cluster untuk hitung score\n",
        "        clusterize.append(df)\n",
        "        colors = ['r', 'g', 'b', 'y', 'orange']\n",
        "        #title plot\n",
        "        axs[col, row].set_title(f'Model Dengan {cluster[0]} Cluster', fontsize=14)\n",
        "        #loop tiap titik data dan centroid\n",
        "        for i in range(cluster[0]):\n",
        "            axs[col][row].scatter(\n",
        "                df['Principal Components 1'][df['Cluster'] == i],\n",
        "                df['Principal Components 2'][df['Cluster'] == i],\n",
        "                color=colors[i],\n",
        "                label=f'Cluster {i}'\n",
        "            )\n",
        "            axs[col][row].scatter(cluster[2][i][0], cluster[2][i][1], color='k', marker='P')\n",
        "\n",
        "        #untuk acuan tampilan legend centroid\n",
        "        axs[col][row].scatter(cluster[2][0][0], cluster[2][0][1], color='k', label=\"Centroids\", marker='P')                  \n",
        "        #set label x, y dan tempat legend ditampilkan\n",
        "        axs[col][row].legend(loc='best', bbox_to_anchor=(1, 0.5))\n",
        "        #atur row dan kolom plot yang akan ditampilkan \n",
        "        row += 1\n",
        "        if row == 2: row = 0\n",
        "        if row == 0 and col == 0: \n",
        "            row = 0\n",
        "            col = 1 \n",
        "    #set label x dan y \n",
        "    for ax in axs.flat:\n",
        "        ax.set(xlabel='Principal Components 1', ylabel='Principal Components 2')\n",
        "        ax.label_outer()\n",
        "    #tampilkan plot\n",
        "    plt.subplots_adjust(wspace=0.3, hspace=0.1)\n",
        "    plt.show()\n",
        "\n",
        "    return clusterize"
      ],
      "execution_count": 30,
      "outputs": []
    },
    {
      "cell_type": "code",
      "metadata": {
        "id": "QcPLzq2ftg2-",
        "colab": {
          "base_uri": "https://localhost:8080/",
          "height": 894
        },
        "outputId": "82ab363b-6e15-4fe1-b149-c484158bf5c5"
      },
      "source": [
        "clusterize = visualize_cluster(cluster_all)"
      ],
      "execution_count": 31,
      "outputs": [
        {
          "output_type": "display_data",
          "data": {
            "image/png": "[encoded data removed]",
            "text/plain": [
              "<Figure size 1080x1080 with 4 Axes>"
            ]
          },
          "metadata": {
            "needs_background": "light"
          }
        }
      ]
    },
    {
      "cell_type": "code",
      "metadata": {
        "colab": {
          "base_uri": "https://localhost:8080/",
          "height": 306
        },
        "id": "TBxQlPedFCxy",
        "outputId": "3d59fd54-43c6-4ba9-ecba-6ab589154eb8"
      },
      "source": [
        "# Plot data\n",
        "plt.plot(K, sse_all, marker='o')\n",
        "plt.xlabel('Nilai K')\n",
        "plt.ylabel('SSE')\n",
        "plt.title('Elbow Method', fontsize=14, pad=16)\n",
        "plt.show()"
      ],
      "execution_count": 32,
      "outputs": [
        {
          "output_type": "display_data",
          "data": {
            "image/png": "[encoded data removed]",
            "text/plain": [
              "<Figure size 432x288 with 1 Axes>"
            ]
          },
          "metadata": {
            "needs_background": "light"
          }
        }
      ]
    },
    {
      "cell_type": "code",
      "metadata": {
        "colab": {
          "base_uri": "https://localhost:8080/"
        },
        "id": "sttqNSrQQBi7",
        "outputId": "47a0a198-6ab9-493c-bcd8-dc5efe058bca"
      },
      "source": [
        "from sklearn.metrics import silhouette_score\n",
        "\n",
        "for i, cluster in enumerate(clusterize):\n",
        "    score = silhouette_score(cluster[['Principal Components 1', 'Principal Components 2']], cluster['Cluster'])\n",
        "    print(f'Cluster-{i+2}, Silhouette Score = {score}')"
      ],
      "execution_count": 33,
      "outputs": [
        {
          "output_type": "stream",
          "name": "stdout",
          "text": [
            "Cluster-2, Silhouette Score = 0.4809231736506345\n",
            "Cluster-3, Silhouette Score = 0.5108670159838642\n",
            "Cluster-4, Silhouette Score = 0.5563159244575188\n",
            "Cluster-5, Silhouette Score = 0.5404176249854816\n"
          ]
        }
      ]
    }
  ]
}